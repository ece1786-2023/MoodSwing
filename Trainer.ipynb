{
  "nbformat": 4,
  "nbformat_minor": 0,
  "metadata": {
    "colab": {
      "provenance": [],
      "gpuType": "T4"
    },
    "kernelspec": {
      "name": "python3",
      "display_name": "Python 3"
    },
    "language_info": {
      "name": "python"
    },
    "accelerator": "GPU"
  },
  "cells": [
    {
      "cell_type": "code",
      "execution_count": null,
      "metadata": {
        "id": "UlL5ZRhOKwkY"
      },
      "outputs": [],
      "source": [
        "from transformers import GPT2Tokenizer, GPT2Model, TrainingArguments, Trainer\n",
        "import torch\n",
        "import torch.nn as nn\n",
        "from torch.utils.data import TensorDataset, DataLoader\n",
        "from sklearn.model_selection import train_test_split\n",
        "from torch.optim import Adam\n",
        "from torch.optim import lr_scheduler\n",
        "from sklearn.metrics import accuracy_score, f1_score\n",
        "import matplotlib.pyplot as plt\n",
        "import numpy as np\n",
        "import pandas as pd"
      ]
    },
    {
      "cell_type": "code",
      "source": [
        "pip install transformers[torch]"
      ],
      "metadata": {
        "id": "ivKLvvjWMJyS"
      },
      "execution_count": null,
      "outputs": []
    },
    {
      "cell_type": "code",
      "source": [
        "pip install accelerate -U"
      ],
      "metadata": {
        "id": "gD1k8bGjMPa4"
      },
      "execution_count": null,
      "outputs": []
    },
    {
      "cell_type": "code",
      "source": [
        "# Load model and tokenizer\n",
        "\n",
        "model_name = \"gpt2\"\n",
        "tokenizer = GPT2Tokenizer.from_pretrained(model_name)\n",
        "\n",
        "# Load data\n",
        "df = pd.read_csv(\"lyrics_preprocessed.csv\")\n",
        "lyrics = df['lyrics'].values\n",
        "mood = df['Mood_encod'].values\n",
        "\n",
        "tokenizer.pad_token = tokenizer.eos_token\n",
        "\n",
        "tokenized_data = tokenizer(df['lyrics'].tolist(), truncation=True, padding=True, return_tensors='pt')\n",
        "\n",
        "dataset = tokenized_data\n",
        "dataset['labels'] = torch.tensor(df['Mood_encod'].tolist())\n",
        "\n",
        "# Split dataset\n",
        "train_dataset = dataset.shuffle(seed=42).select(range(0,1512))\n",
        "val_dataset = dataset.shuffle(seed=42).select(range(1512,1890))\n",
        "\n",
        "class GPT2MoodClassifier(nn.Module):\n",
        "    def __init__(self, gpt2_model, num_classes=4):\n",
        "        super(GPT2MoodClassifier, self).__init__()\n",
        "        self.gpt2_model = gpt2_model\n",
        "        self.classification_head = nn.Linear(gpt2_model.config.hidden_size, num_classes)\n",
        "\n",
        "    def forward(self, input_ids):\n",
        "        outputs = self.gpt2_model(input_ids)\n",
        "        last_hidden_state = outputs[0]\n",
        "        cls_hidden_state = last_hidden_state[:,0,:]\n",
        "        logits = self.classification_head(cls_hidden_state)\n",
        "        return logits\n",
        "\n",
        "gpt2_model = GPT2Model.from_pretrained(model_name)\n",
        "\n",
        "num_classes = len(set(mood))\n",
        "\n",
        "model = GPT2MoodClassifier(gpt2_model, num_classes=num_classes)\n",
        "\n",
        "device = torch.device(\"cuda\" if torch.cuda.is_available() else \"cpu\")\n",
        "model.to(device)\n",
        "\n",
        "training_args = TrainingArguments(\"checkpoint_path\", num_train_epochs=10, per_device_eval_batch_size=4,\\\n",
        "                                  per_device_train_batch_size=4, evaluation_strategy=\"epoch\",\\\n",
        "                                  gradient_accumulation_steps=4, learning_rate=1e-3, fp16=True)\n",
        "\n",
        "def compute_metrics(eval_pred):\n",
        "    logits, labels = eval_pred\n",
        "    pred = np.argmax(logits, axis=-1)\n",
        "    return {'accuracy_score': accuracy_score(labels, pred)}\n",
        "\n",
        "class CustomTrainer(Trainer):\n",
        "    def compute_loss(self, model, inputs):\n",
        "        labels = inputs.pop(\"labels\")\n",
        "        outputs = model(**inputs)\n",
        "        return nn.CrossEntropyLoss()(outputs.logits, labels)\n",
        "\n",
        "trainer = Trainer(model=model, args=training_args, train_dataset=train_dataset, \\\n",
        "                  eval_dataset=val_dataset, compute_metrics=compute_metrics)\n",
        "\n",
        "trainer.train()"
      ],
      "metadata": {
        "id": "z8dAfKA1Ohrj"
      },
      "execution_count": null,
      "outputs": []
    }
  ]
}