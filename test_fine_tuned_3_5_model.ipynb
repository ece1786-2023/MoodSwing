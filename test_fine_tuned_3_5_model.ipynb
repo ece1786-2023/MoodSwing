{
 "cells": [
  {
   "cell_type": "code",
   "execution_count": 23,
   "metadata": {},
   "outputs": [],
   "source": [
    "import pandas as pd\n",
    "import numpy as np\n",
    "import matplotlib.pyplot as plt\n",
    "import seaborn as sns\n",
    "import os\n",
    "import shutil\n",
    "import glob\n",
    "import jsonlines\n",
    "import json\n",
    "import tiktoken\n",
    "from collections import defaultdict\n",
    "from openai import OpenAI\n",
    "from tqdm import tqdm"
   ]
  },
  {
   "cell_type": "code",
   "execution_count": 11,
   "metadata": {},
   "outputs": [],
   "source": [
    "# Add a new column to the df dataframe which contains the filename of the lyrics file\n",
    "system_content = \"You are a chatbot that, when prompted with song lyrics, predicts one of the emotions ('Happy', 'Sad', 'Angry', or 'Relaxed')\\\n",
    "    without providing any explanation. Reply with only the emotion name. You do not retain any previous information regarding the lyrics given to you. \\\n",
    "        You specialize in analysing the given song lyrics and predicting the emotion of the song.\""
   ]
  },
  {
   "cell_type": "code",
   "execution_count": 17,
   "metadata": {},
   "outputs": [],
   "source": [
    "encoding = tiktoken.encoding_for_model('gpt-3.5-turbo') "
   ]
  },
  {
   "cell_type": "code",
   "execution_count": null,
   "metadata": {},
   "outputs": [],
   "source": [
    "data_path = 'test_promptV2.jsonl'\n",
    "# Load the dataset\n",
    "with open(data_path, 'r', encoding='utf-8') as f:\n",
    "    dataset = [json.loads(line) for line in f]\n",
    "# Initial dataset stats\n",
    "print(\"Num examples:\", len(dataset))\n",
    "print(\"First example:\")\n",
    "for message in dataset[0]['messages']:\n",
    "    print(message)"
   ]
  },
  {
   "cell_type": "code",
   "execution_count": 19,
   "metadata": {},
   "outputs": [
    {
     "name": "stdout",
     "output_type": "stream",
     "text": [
      "No errors found\n"
     ]
    }
   ],
   "source": [
    "# Format error checks\n",
    "format_errors = defaultdict(int)\n",
    "\n",
    "for ex in dataset:\n",
    "    if not isinstance(ex, dict):\n",
    "        format_errors[\"data_type\"] += 1\n",
    "        continue\n",
    "        \n",
    "    messages = ex.get(\"messages\", None)\n",
    "    if not messages:\n",
    "        format_errors[\"missing_messages_list\"] += 1\n",
    "        continue\n",
    "        \n",
    "    for message in messages:\n",
    "        if \"role\" not in message or \"content\" not in message:\n",
    "            format_errors[\"message_missing_key\"] += 1\n",
    "        \n",
    "        if any(k not in (\"role\", \"content\", \"name\", \"function_call\") for k in message):\n",
    "            format_errors[\"message_unrecognized_key\"] += 1\n",
    "        \n",
    "        if message.get(\"role\", None) not in (\"system\", \"user\", \"assistant\", \"function\"):\n",
    "            format_errors[\"unrecognized_role\"] += 1\n",
    "            \n",
    "        content = message.get(\"content\", None)\n",
    "        function_call = message.get(\"function_call\", None)\n",
    "        \n",
    "        if (not content and not function_call) or not isinstance(content, str):\n",
    "            format_errors[\"missing_content\"] += 1\n",
    "    \n",
    "    if not any(message.get(\"role\", None) == \"assistant\" for message in messages):\n",
    "        format_errors[\"example_missing_assistant_message\"] += 1\n",
    "\n",
    "if format_errors:\n",
    "    print(\"Found errors:\")\n",
    "    for k, v in format_errors.items():\n",
    "        print(f\"{k}: {v}\")\n",
    "else:\n",
    "    print(\"No errors found\")"
   ]
  },
  {
   "cell_type": "code",
   "execution_count": 20,
   "metadata": {},
   "outputs": [],
   "source": [
    "def num_tokens_from_messages(messages, tokens_per_message=3, tokens_per_name=1):\n",
    "    num_tokens = 0\n",
    "    for message in messages:\n",
    "        num_tokens += tokens_per_message\n",
    "        for key, value in message.items():\n",
    "            num_tokens += len(encoding.encode(value))\n",
    "            if key == \"name\":\n",
    "                num_tokens += tokens_per_name\n",
    "    num_tokens += 3\n",
    "    return num_tokens\n",
    "\n",
    "def num_assistant_tokens_from_messages(messages):\n",
    "    num_tokens = 0\n",
    "    for message in messages:\n",
    "        if message[\"role\"] == \"assistant\":\n",
    "            num_tokens += len(encoding.encode(message[\"content\"]))\n",
    "    return num_tokens\n",
    "\n",
    "def print_distribution(values, name):\n",
    "    print(f\"\\n#### Distribution of {name}:\")\n",
    "    print(f\"min / max: {min(values)}, {max(values)}\")\n",
    "    print(f\"mean / median: {np.mean(values)}, {np.median(values)}\")\n",
    "    print(f\"p5 / p95: {np.quantile(values, 0.1)}, {np.quantile(values, 0.9)}\")"
   ]
  },
  {
   "cell_type": "code",
   "execution_count": 21,
   "metadata": {},
   "outputs": [
    {
     "name": "stdout",
     "output_type": "stream",
     "text": [
      "Num examples missing system message: 0\n",
      "Num examples missing user message: 0\n",
      "\n",
      "#### Distribution of num_messages_per_example:\n",
      "min / max: 3, 3\n",
      "mean / median: 3.0, 3.0\n",
      "p5 / p95: 3.0, 3.0\n",
      "\n",
      "#### Distribution of num_total_tokens_per_example:\n",
      "min / max: 161, 1136\n",
      "mean / median: 435.1917808219178, 404.0\n",
      "p5 / p95: 266.2, 639.4\n",
      "\n",
      "#### Distribution of num_assistant_tokens_per_example:\n",
      "min / max: 1, 2\n",
      "mean / median: 1.5068493150684932, 2.0\n",
      "p5 / p95: 1.0, 2.0\n",
      "\n",
      "0 examples may be over the 4096 token limit, they will be truncated during fine-tuning\n"
     ]
    }
   ],
   "source": [
    "# Warnings and tokens counts\n",
    "n_missing_system = 0\n",
    "n_missing_user = 0\n",
    "n_messages = []\n",
    "convo_lens = []\n",
    "assistant_message_lens = []\n",
    "\n",
    "for ex in dataset:\n",
    "    messages = ex[\"messages\"]\n",
    "    if not any(message[\"role\"] == \"system\" for message in messages):\n",
    "        n_missing_system += 1\n",
    "    if not any(message[\"role\"] == \"user\" for message in messages):\n",
    "        n_missing_user += 1\n",
    "    n_messages.append(len(messages))\n",
    "    convo_lens.append(num_tokens_from_messages(messages))\n",
    "    assistant_message_lens.append(num_assistant_tokens_from_messages(messages))\n",
    "    \n",
    "print(\"Num examples missing system message:\", n_missing_system)\n",
    "print(\"Num examples missing user message:\", n_missing_user)\n",
    "print_distribution(n_messages, \"num_messages_per_example\")\n",
    "print_distribution(convo_lens, \"num_total_tokens_per_example\")\n",
    "print_distribution(assistant_message_lens, \"num_assistant_tokens_per_example\")\n",
    "n_too_long = sum(l > 4096 for l in convo_lens)\n",
    "print(f\"\\n{n_too_long} examples may be over the 4096 token limit, they will be truncated during fine-tuning\")"
   ]
  },
  {
   "cell_type": "code",
   "execution_count": 100,
   "metadata": {},
   "outputs": [
    {
     "data": {
      "text/plain": [
       "'relaxed'"
      ]
     },
     "execution_count": 100,
     "metadata": {},
     "output_type": "execute_result"
    }
   ],
   "source": [
    "dataset[0]['messages'][2]['content']"
   ]
  },
  {
   "cell_type": "code",
   "execution_count": 24,
   "metadata": {},
   "outputs": [],
   "source": [
    "client = OpenAI(api_key=\"\")"
   ]
  },
  {
   "cell_type": "code",
   "execution_count": 147,
   "metadata": {},
   "outputs": [
    {
     "name": "stdout",
     "output_type": "stream",
     "text": [
      "ChatCompletionMessage(content='relaxed', role='assistant', function_call=None, tool_calls=None) relaxed\n",
      "ChatCompletionMessage(content='relaxed', role='assistant', function_call=None, tool_calls=None) happy\n",
      "ChatCompletionMessage(content='angry', role='assistant', function_call=None, tool_calls=None) angry\n",
      "ChatCompletionMessage(content='sad', role='assistant', function_call=None, tool_calls=None) sad\n",
      "ChatCompletionMessage(content='angry', role='assistant', function_call=None, tool_calls=None) angry\n",
      "ChatCompletionMessage(content='relaxed', role='assistant', function_call=None, tool_calls=None) relaxed\n",
      "ChatCompletionMessage(content='happy', role='assistant', function_call=None, tool_calls=None) happy\n",
      "ChatCompletionMessage(content='happy', role='assistant', function_call=None, tool_calls=None) happy\n",
      "ChatCompletionMessage(content='angry', role='assistant', function_call=None, tool_calls=None) angry\n",
      "ChatCompletionMessage(content='sad', role='assistant', function_call=None, tool_calls=None) angry\n",
      "ChatCompletionMessage(content='angry', role='assistant', function_call=None, tool_calls=None) angry\n",
      "ChatCompletionMessage(content='angry', role='assistant', function_call=None, tool_calls=None) angry\n",
      "ChatCompletionMessage(content='sad', role='assistant', function_call=None, tool_calls=None) sad\n",
      "ChatCompletionMessage(content='happy', role='assistant', function_call=None, tool_calls=None) happy\n",
      "ChatCompletionMessage(content='happy', role='assistant', function_call=None, tool_calls=None) happy\n",
      "ChatCompletionMessage(content='happy', role='assistant', function_call=None, tool_calls=None) happy\n",
      "ChatCompletionMessage(content='sad', role='assistant', function_call=None, tool_calls=None) angry\n",
      "ChatCompletionMessage(content='relaxed', role='assistant', function_call=None, tool_calls=None) sad\n",
      "ChatCompletionMessage(content='happy', role='assistant', function_call=None, tool_calls=None) happy\n",
      "ChatCompletionMessage(content='sad', role='assistant', function_call=None, tool_calls=None) relaxed\n",
      "ChatCompletionMessage(content='angry', role='assistant', function_call=None, tool_calls=None) angry\n",
      "ChatCompletionMessage(content='happy', role='assistant', function_call=None, tool_calls=None) happy\n",
      "ChatCompletionMessage(content='relaxed', role='assistant', function_call=None, tool_calls=None) relaxed\n",
      "ChatCompletionMessage(content='happy', role='assistant', function_call=None, tool_calls=None) happy\n",
      "ChatCompletionMessage(content='sad', role='assistant', function_call=None, tool_calls=None) sad\n",
      "ChatCompletionMessage(content='angry', role='assistant', function_call=None, tool_calls=None) sad\n",
      "ChatCompletionMessage(content='happy', role='assistant', function_call=None, tool_calls=None) relaxed\n",
      "ChatCompletionMessage(content='happy', role='assistant', function_call=None, tool_calls=None) happy\n",
      "ChatCompletionMessage(content='happy', role='assistant', function_call=None, tool_calls=None) happy\n",
      "ChatCompletionMessage(content='happy', role='assistant', function_call=None, tool_calls=None) relaxed\n",
      "ChatCompletionMessage(content='sad', role='assistant', function_call=None, tool_calls=None) happy\n",
      "ChatCompletionMessage(content='happy', role='assistant', function_call=None, tool_calls=None) happy\n",
      "ChatCompletionMessage(content='relaxed', role='assistant', function_call=None, tool_calls=None) happy\n",
      "ChatCompletionMessage(content='relaxed', role='assistant', function_call=None, tool_calls=None) relaxed\n",
      "ChatCompletionMessage(content='angry', role='assistant', function_call=None, tool_calls=None) angry\n",
      "ChatCompletionMessage(content='relaxed', role='assistant', function_call=None, tool_calls=None) relaxed\n",
      "ChatCompletionMessage(content='happy', role='assistant', function_call=None, tool_calls=None) relaxed\n",
      "ChatCompletionMessage(content='relaxed', role='assistant', function_call=None, tool_calls=None) relaxed\n",
      "ChatCompletionMessage(content='sad', role='assistant', function_call=None, tool_calls=None) sad\n",
      "ChatCompletionMessage(content='angry', role='assistant', function_call=None, tool_calls=None) angry\n",
      "ChatCompletionMessage(content='angry', role='assistant', function_call=None, tool_calls=None) sad\n",
      "ChatCompletionMessage(content='angry', role='assistant', function_call=None, tool_calls=None) angry\n",
      "ChatCompletionMessage(content='angry', role='assistant', function_call=None, tool_calls=None) happy\n",
      "ChatCompletionMessage(content='relaxed', role='assistant', function_call=None, tool_calls=None) angry\n",
      "ChatCompletionMessage(content='happy', role='assistant', function_call=None, tool_calls=None) relaxed\n",
      "ChatCompletionMessage(content='relaxed', role='assistant', function_call=None, tool_calls=None) relaxed\n",
      "ChatCompletionMessage(content='relaxed', role='assistant', function_call=None, tool_calls=None) relaxed\n",
      "ChatCompletionMessage(content='sad', role='assistant', function_call=None, tool_calls=None) angry\n",
      "ChatCompletionMessage(content='happy', role='assistant', function_call=None, tool_calls=None) happy\n",
      "ChatCompletionMessage(content='sad', role='assistant', function_call=None, tool_calls=None) relaxed\n",
      "ChatCompletionMessage(content='relaxed', role='assistant', function_call=None, tool_calls=None) relaxed\n",
      "ChatCompletionMessage(content='angry', role='assistant', function_call=None, tool_calls=None) angry\n",
      "ChatCompletionMessage(content='relaxed', role='assistant', function_call=None, tool_calls=None) sad\n",
      "ChatCompletionMessage(content='relaxed', role='assistant', function_call=None, tool_calls=None) happy\n",
      "ChatCompletionMessage(content='relaxed', role='assistant', function_call=None, tool_calls=None) relaxed\n",
      "ChatCompletionMessage(content='happy', role='assistant', function_call=None, tool_calls=None) happy\n",
      "ChatCompletionMessage(content='relaxed', role='assistant', function_call=None, tool_calls=None) relaxed\n",
      "ChatCompletionMessage(content='angry', role='assistant', function_call=None, tool_calls=None) angry\n",
      "ChatCompletionMessage(content='sad', role='assistant', function_call=None, tool_calls=None) sad\n",
      "ChatCompletionMessage(content='sad', role='assistant', function_call=None, tool_calls=None) angry\n",
      "ChatCompletionMessage(content='angry', role='assistant', function_call=None, tool_calls=None) happy\n",
      "ChatCompletionMessage(content='angry', role='assistant', function_call=None, tool_calls=None) sad\n",
      "ChatCompletionMessage(content='sad', role='assistant', function_call=None, tool_calls=None) sad\n",
      "ChatCompletionMessage(content='relaxed', role='assistant', function_call=None, tool_calls=None) happy\n",
      "ChatCompletionMessage(content='happy', role='assistant', function_call=None, tool_calls=None) happy\n",
      "ChatCompletionMessage(content='angry', role='assistant', function_call=None, tool_calls=None) angry\n",
      "ChatCompletionMessage(content='happy', role='assistant', function_call=None, tool_calls=None) happy\n",
      "ChatCompletionMessage(content='relaxed', role='assistant', function_call=None, tool_calls=None) happy\n",
      "ChatCompletionMessage(content='relaxed', role='assistant', function_call=None, tool_calls=None) sad\n",
      "ChatCompletionMessage(content='angry', role='assistant', function_call=None, tool_calls=None) angry\n",
      "ChatCompletionMessage(content='relaxed', role='assistant', function_call=None, tool_calls=None) relaxed\n",
      "ChatCompletionMessage(content='relaxed', role='assistant', function_call=None, tool_calls=None) happy\n",
      "ChatCompletionMessage(content='angry', role='assistant', function_call=None, tool_calls=None) angry\n"
     ]
    }
   ],
   "source": [
    "# Testing:\n",
    "models = ['ft:gpt-3.5-turbo-1106:personal::8OVFs1AY',\n",
    "          'ft:gpt-3.5-turbo-1106:personal::8Ph6V5tg',\n",
    "          'ft:gpt-3.5-turbo-1106:personal::8QMX2BHf']\n",
    "fine_tuned_model = models[2]\n",
    "# Get new_prompt as test[0]['messages'][1]['content']\n",
    "output = []\n",
    "for i in range(len(dataset)):\n",
    "    new_prompt = dataset[i]['messages'][1]['content']\n",
    "    answer = client.chat.completions.create(\n",
    "      model=fine_tuned_model,\n",
    "      messages=[\n",
    "          {\"role\": \"system\", \"content\": \"You are a chatbot that when prompted with song lyrics, predict one of the emotions ('Happy', 'Sad', 'Angry', or 'Relaxed') without providing any explanation. Reply with only the emotion name.\"},\n",
    "          {\"role\": \"user\", \"content\": new_prompt}\n",
    "      ]\n",
    "    )\n",
    "    print(answer.choices[0].message, dataset[i]['messages'][2]['content'])\n",
    "    output.append([answer.choices[0].message, dataset[i]['messages'][2]['content']])"
   ]
  },
  {
   "cell_type": "code",
   "execution_count": 148,
   "metadata": {},
   "outputs": [
    {
     "name": "stdout",
     "output_type": "stream",
     "text": [
      "[ChatCompletionMessage(content='angry', role='assistant', function_call=None, tool_calls=None), 'angry']\n"
     ]
    },
    {
     "data": {
      "text/plain": [
       "{'messages': [{'role': 'system',\n",
       "   'content': \"You are a chatbot that, when prompted with song lyrics, predicts one of the emotions ('Happy', 'Sad', 'Angry', or 'Relaxed')    without providing any explanation. Reply with only the emotion name. You do not retain any previous information regarding the lyrics given to you.         You specialize in analysing the given song lyrics and predicting the emotion of the song.\"},\n",
       "  {'role': 'user',\n",
       "   'content': \"[Instrumental Intro]\\n\\n[Verse 1]\\nGenerals gathered in their masses\\nJust like witches at black masses\\nEvil minds that plot destruction\\nSorcerers of death's construction\\nIn the fields, the bodies burning\\nAs the war machine keeps turning\\nDeath and hatred to mankind\\nPoisoning their brainwashed minds\\nOh, Lord, yeah\\n\\n[Bridge]\\nPoliticians hide themselves away\\nThey only started the war\\nWhy should they go out to fight?\\nThey leave that all to the poor, yeah\\nTime will tell on their power minds\\nMaking war just for fun\\nTreating people just like pawns in chess\\nWait till their judgment day comes, yeah\\n\\n[Verse 2]\\nNow, in darkness, world stops turning\\nAshes where their bodies burning\\nNo more war pigs have the power\\nHand of God has struck the hour\\nDay of Judgment, God is calling\\nOn their knees, the war pigs crawling\\nBegging mercies for their sins\\nSatan, laughing, spreads his wings\\nOh, Lord, yeah\\n\"},\n",
       "  {'role': 'assistant', 'content': 'angry'}]}"
      ]
     },
     "execution_count": 148,
     "metadata": {},
     "output_type": "execute_result"
    }
   ],
   "source": [
    "# Print the 3rd laat line of the output\n",
    "print(output[-1])\n",
    "# Print its corresponding line in the dataset\n",
    "dataset[-1]"
   ]
  },
  {
   "cell_type": "code",
   "execution_count": null,
   "metadata": {},
   "outputs": [],
   "source": [
    "# I want to see which emotions are being predicted the most as compared to the actual emotion\n",
    "\n",
    "# Create a dataframe with the output\n",
    "df = pd.DataFrame(output, columns=['predicted', 'actual'])\n",
    "# Iterate through predicted column and update the row with [i][0].content\n",
    "for i in range(len(df)):\n",
    "    df['predicted'][i] = df['predicted'][i].content\n",
    "df"
   ]
  },
  {
   "cell_type": "code",
   "execution_count": null,
   "metadata": {},
   "outputs": [],
   "source": [
    "# Get number of values in each mood category actual\n",
    "df['actual'].value_counts()"
   ]
  },
  {
   "cell_type": "code",
   "execution_count": 143,
   "metadata": {},
   "outputs": [
    {
     "name": "stdout",
     "output_type": "stream",
     "text": [
      "Happy: {'happy': 13, 'sad': 1, 'angry': 2, 'relaxed': 8}\n",
      "Sad: {'happy': 0, 'sad': 6, 'angry': 3, 'relaxed': 3}\n",
      "Angry: {'happy': 1, 'sad': 3, 'angry': 14, 'relaxed': 1}\n",
      "Relaxed: {'happy': 4, 'sad': 2, 'angry': 0, 'relaxed': 12}\n"
     ]
    }
   ],
   "source": [
    "# NOw for each emotion in actual column, create a dictionary with 4 emotions and count the number of times each emotion is predicted\n",
    "# Create a dictionary with 4 emotions\n",
    "actual_happy = {'happy': 0, 'sad': 0, 'angry': 0, 'relaxed': 0}\n",
    "actual_sad = {'happy': 0, 'sad': 0, 'angry': 0, 'relaxed': 0}\n",
    "actual_angry = {'happy': 0, 'sad': 0, 'angry': 0, 'relaxed': 0}\n",
    "actual_relaxed = {'happy': 0, 'sad': 0, 'angry': 0, 'relaxed': 0}\n",
    "\n",
    "for i in range(len(df)):\n",
    "    if df['actual'][i] == 'happy':\n",
    "        actual_happy[df['predicted'][i]] += 1\n",
    "    elif df['actual'][i] == 'sad':\n",
    "        actual_sad[df['predicted'][i]] += 1\n",
    "    elif df['actual'][i] == 'angry':\n",
    "        actual_angry[df['predicted'][i]] += 1\n",
    "    elif df['actual'][i] == 'relaxed':\n",
    "        actual_relaxed[df['predicted'][i]] += 1\n",
    "\n",
    "# Print eavh dictionary\n",
    "print(\"Happy:\", actual_happy)\n",
    "print(\"Sad:\", actual_sad)\n",
    "print(\"Angry:\", actual_angry)\n",
    "print(\"Relaxed:\", actual_relaxed)"
   ]
  },
  {
   "cell_type": "code",
   "execution_count": 149,
   "metadata": {},
   "outputs": [
    {
     "name": "stdout",
     "output_type": "stream",
     "text": [
      "Accuracy: 0.6438356164383562\n",
      "Prediction and Recall scores:  0.6616987914752874 0.6438356164383562\n"
     ]
    }
   ],
   "source": [
    "# For each element in the array, check if output[i][0].content and output[i][1] are same to get accuracy\n",
    "count = 0\n",
    "for i in range(len(output)):\n",
    "    # print(output[i][0].content, output[i][1])\n",
    "    if output[i][0].content == output[i][1]:\n",
    "        count += 1\n",
    "    # IF not same, print both\n",
    "    # else:\n",
    "        # print(output[i][0].content, output[i][1])\n",
    "print(\"Accuracy:\", count/len(output))\n",
    "\n",
    "# Calculate F1 score\n",
    "from sklearn.metrics import f1_score\n",
    "y_true = []\n",
    "y_pred = []\n",
    "for i in range(len(output)):\n",
    "    y_true.append(output[i][1])\n",
    "    y_pred.append(output[i][0].content)\n",
    "f1_score(y_true, y_pred, average='weighted')\n",
    "\n",
    "# Calculate precision and recall\n",
    "from sklearn.metrics import precision_score\n",
    "from sklearn.metrics import recall_score\n",
    "precision_score(y_true, y_pred, average='weighted', zero_division=1)\n",
    "recall_score(y_true, y_pred, average='weighted', zero_division=1)\n",
    "print(\"Prediction and Recall scores: \", precision_score(y_true, y_pred, average='weighted',zero_division=1), recall_score(y_true, y_pred, average='weighted',zero_division=0))"
   ]
  },
  {
   "cell_type": "code",
   "execution_count": null,
   "metadata": {},
   "outputs": [],
   "source": [
    "# Get confusion matrix\n",
    "print(len(y_true), len(y_pred))\n",
    "from sklearn.metrics import confusion_matrix\n",
    "confusion_matrix(y_true, y_pred, labels=['happy', 'sad', 'angry', 'relaxed'])"
   ]
  },
  {
   "cell_type": "code",
   "execution_count": 151,
   "metadata": {},
   "outputs": [
    {
     "name": "stdout",
     "output_type": "stream",
     "text": [
      "              precision    recall  f1-score   support\n",
      "\n",
      "       happy       0.79      0.62      0.70        24\n",
      "         sad       0.46      0.50      0.48        12\n",
      "       angry       0.74      0.74      0.74        19\n",
      "     relaxed       0.55      0.67      0.60        18\n",
      "\n",
      "    accuracy                           0.64        73\n",
      "   macro avg       0.63      0.63      0.63        73\n",
      "weighted avg       0.66      0.64      0.65        73\n",
      "\n"
     ]
    }
   ],
   "source": [
    "# Get classification report\n",
    "from sklearn.metrics import classification_report\n",
    "print(classification_report(y_true, y_pred, labels=['happy', 'sad', 'angry', 'relaxed']))"
   ]
  }
 ],
 "metadata": {
  "kernelspec": {
   "display_name": "UofT",
   "language": "python",
   "name": "python3"
  },
  "language_info": {
   "codemirror_mode": {
    "name": "ipython",
    "version": 3
   },
   "file_extension": ".py",
   "mimetype": "text/x-python",
   "name": "python",
   "nbconvert_exporter": "python",
   "pygments_lexer": "ipython3",
   "version": "3.11.4"
  },
  "orig_nbformat": 4
 },
 "nbformat": 4,
 "nbformat_minor": 2
}
