{
  "cells": [
    {
      "cell_type": "code",
      "source": [
        "import torch\n",
        "import torch.nn as nn\n",
        "import torch.optim as optim\n",
        "from torch.optim import lr_scheduler\n",
        "from torch.utils.data import TensorDataset, DataLoader\n",
        "from sklearn.model_selection import train_test_split\n",
        "from sklearn.metrics import accuracy_score, f1_score\n",
        "from tqdm import tqdm\n",
        "from transformers import BertTokenizer, BertForSequenceClassification\n",
        "from torch.cuda.amp import GradScaler, autocast\n",
        "import matplotlib.pyplot as plt\n",
        "import pandas as pd"
      ],
      "metadata": {
        "id": "QTZMHOFRRix0"
      },
      "execution_count": 8,
      "outputs": []
    },
    {
      "cell_type": "code",
      "source": [
        "def prepare_data(df, tokenizer):\n",
        "    lyrics1 = df['Lyrics'].tolist()\n",
        "    mood1 = df['Mood_encod'].tolist()\n",
        "\n",
        "    train_inputs, val_inputs, train_labels, val_labels = train_test_split(\n",
        "        lyrics1, mood1, test_size=0.2, random_state=42\n",
        "    )\n",
        "\n",
        "    train_encodings = tokenizer(train_inputs, padding=True, truncation=True, return_tensors=\"pt\")\n",
        "    val_encodings = tokenizer(val_inputs, padding=True, truncation=True, return_tensors=\"pt\")\n",
        "\n",
        "    train_labels = torch.tensor(train_labels)\n",
        "    val_labels = torch.tensor(val_labels)\n",
        "\n",
        "    train_data = TensorDataset(train_encodings['input_ids'], train_encodings['attention_mask'], train_labels)\n",
        "    val_data = TensorDataset(val_encodings['input_ids'], val_encodings['attention_mask'], val_labels)\n",
        "\n",
        "    return train_data, val_data"
      ],
      "metadata": {
        "id": "q6labsB7Ri0i"
      },
      "execution_count": 3,
      "outputs": []
    },
    {
      "cell_type": "code",
      "source": [
        "def create_bert_model(model_name, num_classes):\n",
        "    model = BertForSequenceClassification.from_pretrained(model_name, num_labels=num_classes,problem_type=\"multi_label_classification\",\n",
        "                                                          ignore_mismatched_sizes=True)\n",
        "    return model"
      ],
      "metadata": {
        "id": "e5AtRJBvRi3C"
      },
      "execution_count": 4,
      "outputs": []
    },
    {
      "cell_type": "code",
      "source": [
        "def train_bert_model(model, train_dataloader, val_dataloader, optimizer, loss, scheduler, device, epochs=10, accumulation_steps=4, checkpoint=1):\n",
        "    scaler = GradScaler()\n",
        "\n",
        "    T_loss = []\n",
        "    V_loss = []\n",
        "    T_acc = []\n",
        "    V_acc = []\n",
        "    T_f1 = []\n",
        "    V_f1 = []\n",
        "\n",
        "    for epoch in range(epochs):\n",
        "        # Training loop\n",
        "        model.train()\n",
        "        train_loss = 0\n",
        "        train_pred = []\n",
        "        train_true = []\n",
        "\n",
        "        for step, batch in enumerate(tqdm(train_dataloader)):\n",
        "            input_ids = batch[0].to(device)\n",
        "            attention_mask = batch[1].to(device)\n",
        "            labels = batch[2].to(device)\n",
        "\n",
        "            optimizer.zero_grad()\n",
        "\n",
        "            with autocast():\n",
        "                outputs = model(input_ids, attention_mask=attention_mask)\n",
        "                logits = outputs.logits\n",
        "                loss_value = loss(logits, labels)\n",
        "\n",
        "            scaler.scale(loss_value).backward()\n",
        "\n",
        "            if (step + 1) % accumulation_steps == 0:\n",
        "                scaler.step(optimizer)\n",
        "                scaler.update()\n",
        "                optimizer.zero_grad()\n",
        "\n",
        "            prob = nn.functional.softmax(logits, dim=-1)\n",
        "            pred = torch.argmax(prob, dim=-1)\n",
        "\n",
        "            train_loss += loss_value.item()\n",
        "            train_pred.extend(pred.cpu().numpy())\n",
        "            train_true.extend(labels.cpu().numpy())\n",
        "\n",
        "        scheduler.step()\n",
        "\n",
        "        T_acc.append(accuracy_score(train_true, train_pred))\n",
        "        T_f1.append(f1_score(train_true, train_pred, average='weighted'))\n",
        "        T_loss.append(train_loss / len(train_dataloader))\n",
        "\n",
        "        print(\"Epoch: {}, Training Loss: {:.4f}, Accuracy: {:.4f}, F1 Score: {:.4f}\"\n",
        "              .format(epoch, train_loss / len(train_dataloader),\n",
        "                      accuracy_score(train_true, train_pred),\n",
        "                      f1_score(train_true, train_pred, average='weighted')))\n",
        "\n",
        "        # Validation loop\n",
        "        model.eval()\n",
        "        val_loss = 0\n",
        "        val_pred = []\n",
        "        val_true = []\n",
        "\n",
        "        for batch in val_dataloader:\n",
        "            input_ids = batch[0].to(device)\n",
        "            attention_mask = batch[1].to(device)\n",
        "            labels = batch[2].to(device)\n",
        "\n",
        "            with torch.no_grad():\n",
        "                outputs = model(input_ids, attention_mask=attention_mask)\n",
        "                logits = outputs.logits\n",
        "                prob = nn.functional.softmax(logits, dim=-1)\n",
        "                pred = torch.argmax(prob, dim=-1)\n",
        "\n",
        "                loss_value = loss(logits, labels)\n",
        "                val_loss += loss_value.item()\n",
        "                val_pred.extend(pred.cpu().numpy())\n",
        "                val_true.extend(labels.cpu().numpy())\n",
        "\n",
        "        V_acc.append(accuracy_score(val_true, val_pred))\n",
        "        V_f1.append(f1_score(val_true, val_pred, average='weighted'))\n",
        "        V_loss.append(val_loss / len(val_dataloader))\n",
        "\n",
        "        print(\"Epoch: {}, Validation Loss: {:.4f}, Accuracy: {:.4f}, F1 Score: {:.4f}\"\n",
        "              .format(epoch, val_loss / len(val_dataloader),\n",
        "                      accuracy_score(val_true, val_pred),\n",
        "                      f1_score(val_true, val_pred, average='weighted')))\n",
        "\n",
        "    return T_loss, V_loss, T_acc, V_acc, T_f1, V_f1\n"
      ],
      "metadata": {
        "id": "I0Kj2dJARi5w"
      },
      "execution_count": 14,
      "outputs": []
    },
    {
      "cell_type": "code",
      "source": [
        "def plot_metrics(T_loss, V_loss, T_acc, V_acc, T_f1, V_f1):\n",
        "    # Plotting all the metrics\n",
        "    plt.figure(figsize=(10, 5))\n",
        "    plt.subplot(1, 3, 1)\n",
        "    plt.plot(T_loss, label='Training Loss')\n",
        "    plt.plot(V_loss, label='Validation Loss')\n",
        "    plt.title('Loss Over Epochs')\n",
        "    plt.xlabel('Epoch')\n",
        "    plt.ylabel('Loss')\n",
        "    plt.legend()\n",
        "\n",
        "    # Plotting Accuracy\n",
        "    plt.subplot(1, 3, 2)\n",
        "    plt.plot(T_acc, label='Training Accuracy')\n",
        "    plt.plot(V_acc, label='Validation Accuracy')\n",
        "    plt.title('Accuracy Over Epochs')\n",
        "    plt.xlabel('Epoch')\n",
        "    plt.ylabel('Accuracy')\n",
        "    plt.legend()\n",
        "\n",
        "    # Plotting F1 Score\n",
        "    plt.subplot(1, 3, 3)\n",
        "    plt.plot(T_f1, label='Training F1 Score')\n",
        "    plt.plot(V_f1, label='Validation F1 Score')\n",
        "    plt.title('F1 Score Over Epochs')\n",
        "    plt.xlabel('Epoch')\n",
        "    plt.ylabel('F1 Score')\n",
        "    plt.legend()\n",
        "\n",
        "    plt.tight_layout()\n",
        "    plt.show()"
      ],
      "metadata": {
        "id": "kqozXaj7Ri8f"
      },
      "execution_count": 6,
      "outputs": []
    },
    {
      "cell_type": "code",
      "source": [
        "df.head()"
      ],
      "metadata": {
        "colab": {
          "base_uri": "https://localhost:8080/",
          "height": 206
        },
        "id": "qN2DHC_hDwjD",
        "outputId": "a0811798-3276-43e9-dd31-77b376269452"
      },
      "execution_count": 10,
      "outputs": [
        {
          "output_type": "execute_result",
          "data": {
            "text/plain": [
              "    Index                                             Artist  \\\n",
              "0   ML100                                        Bad Company   \n",
              "1  ML1003                                          Los Lobos   \n",
              "2  ML1008  Hezekiah Walker & The Love Fellowship Crusade ...   \n",
              "3  ML1009                                        Donald Byrd   \n",
              "4  ML1011                                         Inner City   \n",
              "\n",
              "                  Title   Mood Check                         Filename  \\\n",
              "0      Can't Get Enough  happy     Y        ML100_Cant Get Enough.txt   \n",
              "1      Come On Let's Go  happy     Y       ML1003_Come On Lets Go.txt   \n",
              "2  Power Belongs To God  happy     Y  ML1008_Power Belongs To God.txt   \n",
              "3           Think Twice  happy     Y           ML1009_Think Twice.txt   \n",
              "4             Good Life  happy     Y             ML1011_Good Life.txt   \n",
              "\n",
              "                                              Lyrics  \n",
              "0  [Intro]\\n\\n[Verse 1]\\nWell, I take whatever I ...  \n",
              "1  [Verse 1]\\nWell, come on let's go, let's go, l...  \n",
              "2  \\nTrust in the Lord at all times\\nPour out you...  \n",
              "3  \\n[Verse 1: Kay Haith]\\nMaybe we oughta think ...  \n",
              "4  [Verse 1]\\n[Verse 1]\\nLet me take you to a pla...  "
            ],
            "text/html": [
              "\n",
              "  <div id=\"df-1ddfae3b-e4c5-49b8-bc13-63b32938147e\" class=\"colab-df-container\">\n",
              "    <div>\n",
              "<style scoped>\n",
              "    .dataframe tbody tr th:only-of-type {\n",
              "        vertical-align: middle;\n",
              "    }\n",
              "\n",
              "    .dataframe tbody tr th {\n",
              "        vertical-align: top;\n",
              "    }\n",
              "\n",
              "    .dataframe thead th {\n",
              "        text-align: right;\n",
              "    }\n",
              "</style>\n",
              "<table border=\"1\" class=\"dataframe\">\n",
              "  <thead>\n",
              "    <tr style=\"text-align: right;\">\n",
              "      <th></th>\n",
              "      <th>Index</th>\n",
              "      <th>Artist</th>\n",
              "      <th>Title</th>\n",
              "      <th>Mood</th>\n",
              "      <th>Check</th>\n",
              "      <th>Filename</th>\n",
              "      <th>Lyrics</th>\n",
              "    </tr>\n",
              "  </thead>\n",
              "  <tbody>\n",
              "    <tr>\n",
              "      <th>0</th>\n",
              "      <td>ML100</td>\n",
              "      <td>Bad Company</td>\n",
              "      <td>Can't Get Enough</td>\n",
              "      <td>happy</td>\n",
              "      <td>Y</td>\n",
              "      <td>ML100_Cant Get Enough.txt</td>\n",
              "      <td>[Intro]\\n\\n[Verse 1]\\nWell, I take whatever I ...</td>\n",
              "    </tr>\n",
              "    <tr>\n",
              "      <th>1</th>\n",
              "      <td>ML1003</td>\n",
              "      <td>Los Lobos</td>\n",
              "      <td>Come On Let's Go</td>\n",
              "      <td>happy</td>\n",
              "      <td>Y</td>\n",
              "      <td>ML1003_Come On Lets Go.txt</td>\n",
              "      <td>[Verse 1]\\nWell, come on let's go, let's go, l...</td>\n",
              "    </tr>\n",
              "    <tr>\n",
              "      <th>2</th>\n",
              "      <td>ML1008</td>\n",
              "      <td>Hezekiah Walker &amp; The Love Fellowship Crusade ...</td>\n",
              "      <td>Power Belongs To God</td>\n",
              "      <td>happy</td>\n",
              "      <td>Y</td>\n",
              "      <td>ML1008_Power Belongs To God.txt</td>\n",
              "      <td>\\nTrust in the Lord at all times\\nPour out you...</td>\n",
              "    </tr>\n",
              "    <tr>\n",
              "      <th>3</th>\n",
              "      <td>ML1009</td>\n",
              "      <td>Donald Byrd</td>\n",
              "      <td>Think Twice</td>\n",
              "      <td>happy</td>\n",
              "      <td>Y</td>\n",
              "      <td>ML1009_Think Twice.txt</td>\n",
              "      <td>\\n[Verse 1: Kay Haith]\\nMaybe we oughta think ...</td>\n",
              "    </tr>\n",
              "    <tr>\n",
              "      <th>4</th>\n",
              "      <td>ML1011</td>\n",
              "      <td>Inner City</td>\n",
              "      <td>Good Life</td>\n",
              "      <td>happy</td>\n",
              "      <td>Y</td>\n",
              "      <td>ML1011_Good Life.txt</td>\n",
              "      <td>[Verse 1]\\n[Verse 1]\\nLet me take you to a pla...</td>\n",
              "    </tr>\n",
              "  </tbody>\n",
              "</table>\n",
              "</div>\n",
              "    <div class=\"colab-df-buttons\">\n",
              "\n",
              "  <div class=\"colab-df-container\">\n",
              "    <button class=\"colab-df-convert\" onclick=\"convertToInteractive('df-1ddfae3b-e4c5-49b8-bc13-63b32938147e')\"\n",
              "            title=\"Convert this dataframe to an interactive table.\"\n",
              "            style=\"display:none;\">\n",
              "\n",
              "  <svg xmlns=\"http://www.w3.org/2000/svg\" height=\"24px\" viewBox=\"0 -960 960 960\">\n",
              "    <path d=\"M120-120v-720h720v720H120Zm60-500h600v-160H180v160Zm220 220h160v-160H400v160Zm0 220h160v-160H400v160ZM180-400h160v-160H180v160Zm440 0h160v-160H620v160ZM180-180h160v-160H180v160Zm440 0h160v-160H620v160Z\"/>\n",
              "  </svg>\n",
              "    </button>\n",
              "\n",
              "  <style>\n",
              "    .colab-df-container {\n",
              "      display:flex;\n",
              "      gap: 12px;\n",
              "    }\n",
              "\n",
              "    .colab-df-convert {\n",
              "      background-color: #E8F0FE;\n",
              "      border: none;\n",
              "      border-radius: 50%;\n",
              "      cursor: pointer;\n",
              "      display: none;\n",
              "      fill: #1967D2;\n",
              "      height: 32px;\n",
              "      padding: 0 0 0 0;\n",
              "      width: 32px;\n",
              "    }\n",
              "\n",
              "    .colab-df-convert:hover {\n",
              "      background-color: #E2EBFA;\n",
              "      box-shadow: 0px 1px 2px rgba(60, 64, 67, 0.3), 0px 1px 3px 1px rgba(60, 64, 67, 0.15);\n",
              "      fill: #174EA6;\n",
              "    }\n",
              "\n",
              "    .colab-df-buttons div {\n",
              "      margin-bottom: 4px;\n",
              "    }\n",
              "\n",
              "    [theme=dark] .colab-df-convert {\n",
              "      background-color: #3B4455;\n",
              "      fill: #D2E3FC;\n",
              "    }\n",
              "\n",
              "    [theme=dark] .colab-df-convert:hover {\n",
              "      background-color: #434B5C;\n",
              "      box-shadow: 0px 1px 3px 1px rgba(0, 0, 0, 0.15);\n",
              "      filter: drop-shadow(0px 1px 2px rgba(0, 0, 0, 0.3));\n",
              "      fill: #FFFFFF;\n",
              "    }\n",
              "  </style>\n",
              "\n",
              "    <script>\n",
              "      const buttonEl =\n",
              "        document.querySelector('#df-1ddfae3b-e4c5-49b8-bc13-63b32938147e button.colab-df-convert');\n",
              "      buttonEl.style.display =\n",
              "        google.colab.kernel.accessAllowed ? 'block' : 'none';\n",
              "\n",
              "      async function convertToInteractive(key) {\n",
              "        const element = document.querySelector('#df-1ddfae3b-e4c5-49b8-bc13-63b32938147e');\n",
              "        const dataTable =\n",
              "          await google.colab.kernel.invokeFunction('convertToInteractive',\n",
              "                                                    [key], {});\n",
              "        if (!dataTable) return;\n",
              "\n",
              "        const docLinkHtml = 'Like what you see? Visit the ' +\n",
              "          '<a target=\"_blank\" href=https://colab.research.google.com/notebooks/data_table.ipynb>data table notebook</a>'\n",
              "          + ' to learn more about interactive tables.';\n",
              "        element.innerHTML = '';\n",
              "        dataTable['output_type'] = 'display_data';\n",
              "        await google.colab.output.renderOutput(dataTable, element);\n",
              "        const docLink = document.createElement('div');\n",
              "        docLink.innerHTML = docLinkHtml;\n",
              "        element.appendChild(docLink);\n",
              "      }\n",
              "    </script>\n",
              "  </div>\n",
              "\n",
              "\n",
              "<div id=\"df-eb78ae40-3082-4469-b72a-86dae09fe5c2\">\n",
              "  <button class=\"colab-df-quickchart\" onclick=\"quickchart('df-eb78ae40-3082-4469-b72a-86dae09fe5c2')\"\n",
              "            title=\"Suggest charts\"\n",
              "            style=\"display:none;\">\n",
              "\n",
              "<svg xmlns=\"http://www.w3.org/2000/svg\" height=\"24px\"viewBox=\"0 0 24 24\"\n",
              "     width=\"24px\">\n",
              "    <g>\n",
              "        <path d=\"M19 3H5c-1.1 0-2 .9-2 2v14c0 1.1.9 2 2 2h14c1.1 0 2-.9 2-2V5c0-1.1-.9-2-2-2zM9 17H7v-7h2v7zm4 0h-2V7h2v10zm4 0h-2v-4h2v4z\"/>\n",
              "    </g>\n",
              "</svg>\n",
              "  </button>\n",
              "\n",
              "<style>\n",
              "  .colab-df-quickchart {\n",
              "      --bg-color: #E8F0FE;\n",
              "      --fill-color: #1967D2;\n",
              "      --hover-bg-color: #E2EBFA;\n",
              "      --hover-fill-color: #174EA6;\n",
              "      --disabled-fill-color: #AAA;\n",
              "      --disabled-bg-color: #DDD;\n",
              "  }\n",
              "\n",
              "  [theme=dark] .colab-df-quickchart {\n",
              "      --bg-color: #3B4455;\n",
              "      --fill-color: #D2E3FC;\n",
              "      --hover-bg-color: #434B5C;\n",
              "      --hover-fill-color: #FFFFFF;\n",
              "      --disabled-bg-color: #3B4455;\n",
              "      --disabled-fill-color: #666;\n",
              "  }\n",
              "\n",
              "  .colab-df-quickchart {\n",
              "    background-color: var(--bg-color);\n",
              "    border: none;\n",
              "    border-radius: 50%;\n",
              "    cursor: pointer;\n",
              "    display: none;\n",
              "    fill: var(--fill-color);\n",
              "    height: 32px;\n",
              "    padding: 0;\n",
              "    width: 32px;\n",
              "  }\n",
              "\n",
              "  .colab-df-quickchart:hover {\n",
              "    background-color: var(--hover-bg-color);\n",
              "    box-shadow: 0 1px 2px rgba(60, 64, 67, 0.3), 0 1px 3px 1px rgba(60, 64, 67, 0.15);\n",
              "    fill: var(--button-hover-fill-color);\n",
              "  }\n",
              "\n",
              "  .colab-df-quickchart-complete:disabled,\n",
              "  .colab-df-quickchart-complete:disabled:hover {\n",
              "    background-color: var(--disabled-bg-color);\n",
              "    fill: var(--disabled-fill-color);\n",
              "    box-shadow: none;\n",
              "  }\n",
              "\n",
              "  .colab-df-spinner {\n",
              "    border: 2px solid var(--fill-color);\n",
              "    border-color: transparent;\n",
              "    border-bottom-color: var(--fill-color);\n",
              "    animation:\n",
              "      spin 1s steps(1) infinite;\n",
              "  }\n",
              "\n",
              "  @keyframes spin {\n",
              "    0% {\n",
              "      border-color: transparent;\n",
              "      border-bottom-color: var(--fill-color);\n",
              "      border-left-color: var(--fill-color);\n",
              "    }\n",
              "    20% {\n",
              "      border-color: transparent;\n",
              "      border-left-color: var(--fill-color);\n",
              "      border-top-color: var(--fill-color);\n",
              "    }\n",
              "    30% {\n",
              "      border-color: transparent;\n",
              "      border-left-color: var(--fill-color);\n",
              "      border-top-color: var(--fill-color);\n",
              "      border-right-color: var(--fill-color);\n",
              "    }\n",
              "    40% {\n",
              "      border-color: transparent;\n",
              "      border-right-color: var(--fill-color);\n",
              "      border-top-color: var(--fill-color);\n",
              "    }\n",
              "    60% {\n",
              "      border-color: transparent;\n",
              "      border-right-color: var(--fill-color);\n",
              "    }\n",
              "    80% {\n",
              "      border-color: transparent;\n",
              "      border-right-color: var(--fill-color);\n",
              "      border-bottom-color: var(--fill-color);\n",
              "    }\n",
              "    90% {\n",
              "      border-color: transparent;\n",
              "      border-bottom-color: var(--fill-color);\n",
              "    }\n",
              "  }\n",
              "</style>\n",
              "\n",
              "  <script>\n",
              "    async function quickchart(key) {\n",
              "      const quickchartButtonEl =\n",
              "        document.querySelector('#' + key + ' button');\n",
              "      quickchartButtonEl.disabled = true;  // To prevent multiple clicks.\n",
              "      quickchartButtonEl.classList.add('colab-df-spinner');\n",
              "      try {\n",
              "        const charts = await google.colab.kernel.invokeFunction(\n",
              "            'suggestCharts', [key], {});\n",
              "      } catch (error) {\n",
              "        console.error('Error during call to suggestCharts:', error);\n",
              "      }\n",
              "      quickchartButtonEl.classList.remove('colab-df-spinner');\n",
              "      quickchartButtonEl.classList.add('colab-df-quickchart-complete');\n",
              "    }\n",
              "    (() => {\n",
              "      let quickchartButtonEl =\n",
              "        document.querySelector('#df-eb78ae40-3082-4469-b72a-86dae09fe5c2 button');\n",
              "      quickchartButtonEl.style.display =\n",
              "        google.colab.kernel.accessAllowed ? 'block' : 'none';\n",
              "    })();\n",
              "  </script>\n",
              "</div>\n",
              "    </div>\n",
              "  </div>\n"
            ]
          },
          "metadata": {},
          "execution_count": 10
        }
      ]
    },
    {
      "cell_type": "code",
      "source": [
        "# Example usage\n",
        "model_name = \"textattack/bert-base-uncased-yelp-polarity\"\n",
        "tokenizer = BertTokenizer.from_pretrained(model_name)\n",
        "df = pd.read_csv(\"/content/subset173_withLyrics_for_collab.csv\")  # Your DataFrame with lyrics and mood\n",
        "df['Mood_encod'] = df['Mood'].map({'happy': 0, 'sad': 1, 'angry': 2, 'relaxed': 3})\n",
        "num_classes = len(set(df['Mood_encod']))\n",
        "train_data, val_data = prepare_data(df, tokenizer)\n",
        "model = create_bert_model(model_name, num_classes)"
      ],
      "metadata": {
        "colab": {
          "base_uri": "https://localhost:8080/"
        },
        "id": "VYK20ovDSX-I",
        "outputId": "7f89b089-10cd-40fa-d6b6-58a994d25080"
      },
      "execution_count": 18,
      "outputs": [
        {
          "output_type": "stream",
          "name": "stderr",
          "text": [
            "Some weights of BertForSequenceClassification were not initialized from the model checkpoint at textattack/bert-base-uncased-yelp-polarity and are newly initialized because the shapes did not match:\n",
            "- classifier.weight: found shape torch.Size([2, 768]) in the checkpoint and torch.Size([4, 768]) in the model instantiated\n",
            "- classifier.bias: found shape torch.Size([2]) in the checkpoint and torch.Size([4]) in the model instantiated\n",
            "You should probably TRAIN this model on a down-stream task to be able to use it for predictions and inference.\n"
          ]
        }
      ]
    },
    {
      "cell_type": "code",
      "source": [
        "loss = nn.CrossEntropyLoss()\n",
        "optimizer = torch.optim.AdamW(model.parameters(), lr=5e-5)\n",
        "scheduler = lr_scheduler.StepLR(optimizer, 1.0, gamma=0.9)"
      ],
      "metadata": {
        "id": "_HLzjSepSZ3N"
      },
      "execution_count": 19,
      "outputs": []
    },
    {
      "cell_type": "code",
      "source": [
        "train_dataloader = DataLoader(train_data, batch_size=8, shuffle=True)\n",
        "val_dataloader = DataLoader(val_data, batch_size=8, shuffle=True)\n",
        "\n",
        "device = torch.device(\"cuda\" if torch.cuda.is_available() else \"cpu\")\n",
        "model.to(device)\n",
        "\n",
        "T_loss, V_loss, T_acc, V_acc, T_f1, V_f1 = train_bert_model(model, train_dataloader, val_dataloader, optimizer, loss, scheduler, device, epochs=20)\n",
        "plot_metrics(T_loss, V_loss, T_acc, V_acc, T_f1, V_f1)"
      ],
      "metadata": {
        "colab": {
          "base_uri": "https://localhost:8080/",
          "height": 1000
        },
        "id": "VxE3T3QfRi_X",
        "outputId": "f0f96b39-f956-41a1-9f01-5322f587c82f"
      },
      "execution_count": 20,
      "outputs": [
        {
          "output_type": "stream",
          "name": "stderr",
          "text": [
            "100%|██████████| 18/18 [00:04<00:00,  3.72it/s]\n"
          ]
        },
        {
          "output_type": "stream",
          "name": "stdout",
          "text": [
            "Epoch: 0, Training Loss: 1.3154, Accuracy: 0.3043, F1 Score: 0.2257\n",
            "Epoch: 0, Validation Loss: 1.4052, Accuracy: 0.2286, F1 Score: 0.1194\n"
          ]
        },
        {
          "output_type": "stream",
          "name": "stderr",
          "text": [
            "100%|██████████| 18/18 [00:04<00:00,  3.83it/s]\n"
          ]
        },
        {
          "output_type": "stream",
          "name": "stdout",
          "text": [
            "Epoch: 1, Training Loss: 1.3321, Accuracy: 0.3188, F1 Score: 0.2182\n",
            "Epoch: 1, Validation Loss: 1.4581, Accuracy: 0.2000, F1 Score: 0.0718\n"
          ]
        },
        {
          "output_type": "stream",
          "name": "stderr",
          "text": [
            "100%|██████████| 18/18 [00:04<00:00,  3.81it/s]\n"
          ]
        },
        {
          "output_type": "stream",
          "name": "stdout",
          "text": [
            "Epoch: 2, Training Loss: 1.2948, Accuracy: 0.3261, F1 Score: 0.2465\n",
            "Epoch: 2, Validation Loss: 1.3611, Accuracy: 0.3143, F1 Score: 0.2604\n"
          ]
        },
        {
          "output_type": "stream",
          "name": "stderr",
          "text": [
            "100%|██████████| 18/18 [00:04<00:00,  3.81it/s]\n"
          ]
        },
        {
          "output_type": "stream",
          "name": "stdout",
          "text": [
            "Epoch: 3, Training Loss: 1.2585, Accuracy: 0.3551, F1 Score: 0.3126\n",
            "Epoch: 3, Validation Loss: 1.2414, Accuracy: 0.3429, F1 Score: 0.3120\n"
          ]
        },
        {
          "output_type": "stream",
          "name": "stderr",
          "text": [
            "100%|██████████| 18/18 [00:04<00:00,  3.77it/s]\n"
          ]
        },
        {
          "output_type": "stream",
          "name": "stdout",
          "text": [
            "Epoch: 4, Training Loss: 1.2224, Accuracy: 0.4058, F1 Score: 0.3913\n",
            "Epoch: 4, Validation Loss: 1.2272, Accuracy: 0.3714, F1 Score: 0.3600\n"
          ]
        },
        {
          "output_type": "stream",
          "name": "stderr",
          "text": [
            "100%|██████████| 18/18 [00:04<00:00,  3.77it/s]\n"
          ]
        },
        {
          "output_type": "stream",
          "name": "stdout",
          "text": [
            "Epoch: 5, Training Loss: 1.1874, Accuracy: 0.4420, F1 Score: 0.4310\n",
            "Epoch: 5, Validation Loss: 1.1964, Accuracy: 0.4000, F1 Score: 0.4004\n"
          ]
        },
        {
          "output_type": "stream",
          "name": "stderr",
          "text": [
            "100%|██████████| 18/18 [00:04<00:00,  3.75it/s]\n"
          ]
        },
        {
          "output_type": "stream",
          "name": "stdout",
          "text": [
            "Epoch: 6, Training Loss: 1.1969, Accuracy: 0.3551, F1 Score: 0.3161\n",
            "Epoch: 6, Validation Loss: 1.1813, Accuracy: 0.4000, F1 Score: 0.3987\n"
          ]
        },
        {
          "output_type": "stream",
          "name": "stderr",
          "text": [
            "100%|██████████| 18/18 [00:04<00:00,  3.75it/s]\n"
          ]
        },
        {
          "output_type": "stream",
          "name": "stdout",
          "text": [
            "Epoch: 7, Training Loss: 1.1735, Accuracy: 0.4855, F1 Score: 0.4610\n",
            "Epoch: 7, Validation Loss: 1.1805, Accuracy: 0.3714, F1 Score: 0.3811\n"
          ]
        },
        {
          "output_type": "stream",
          "name": "stderr",
          "text": [
            "100%|██████████| 18/18 [00:04<00:00,  3.75it/s]\n"
          ]
        },
        {
          "output_type": "stream",
          "name": "stdout",
          "text": [
            "Epoch: 8, Training Loss: 1.1455, Accuracy: 0.4493, F1 Score: 0.4319\n",
            "Epoch: 8, Validation Loss: 1.1498, Accuracy: 0.3714, F1 Score: 0.3743\n"
          ]
        },
        {
          "output_type": "stream",
          "name": "stderr",
          "text": [
            "100%|██████████| 18/18 [00:04<00:00,  3.75it/s]\n"
          ]
        },
        {
          "output_type": "stream",
          "name": "stdout",
          "text": [
            "Epoch: 9, Training Loss: 1.1088, Accuracy: 0.5217, F1 Score: 0.5073\n",
            "Epoch: 9, Validation Loss: 1.1174, Accuracy: 0.3714, F1 Score: 0.3821\n"
          ]
        },
        {
          "output_type": "stream",
          "name": "stderr",
          "text": [
            "100%|██████████| 18/18 [00:04<00:00,  3.81it/s]\n"
          ]
        },
        {
          "output_type": "stream",
          "name": "stdout",
          "text": [
            "Epoch: 10, Training Loss: 1.1019, Accuracy: 0.5435, F1 Score: 0.5322\n",
            "Epoch: 10, Validation Loss: 1.1339, Accuracy: 0.3714, F1 Score: 0.3773\n"
          ]
        },
        {
          "output_type": "stream",
          "name": "stderr",
          "text": [
            "100%|██████████| 18/18 [00:04<00:00,  3.76it/s]\n"
          ]
        },
        {
          "output_type": "stream",
          "name": "stdout",
          "text": [
            "Epoch: 11, Training Loss: 1.0808, Accuracy: 0.5435, F1 Score: 0.5271\n",
            "Epoch: 11, Validation Loss: 1.1668, Accuracy: 0.3429, F1 Score: 0.3425\n"
          ]
        },
        {
          "output_type": "stream",
          "name": "stderr",
          "text": [
            "100%|██████████| 18/18 [00:04<00:00,  3.79it/s]\n"
          ]
        },
        {
          "output_type": "stream",
          "name": "stdout",
          "text": [
            "Epoch: 12, Training Loss: 1.0428, Accuracy: 0.5290, F1 Score: 0.5040\n",
            "Epoch: 12, Validation Loss: 1.1140, Accuracy: 0.4000, F1 Score: 0.4032\n"
          ]
        },
        {
          "output_type": "stream",
          "name": "stderr",
          "text": [
            "100%|██████████| 18/18 [00:04<00:00,  3.78it/s]\n"
          ]
        },
        {
          "output_type": "stream",
          "name": "stdout",
          "text": [
            "Epoch: 13, Training Loss: 0.9925, Accuracy: 0.5652, F1 Score: 0.5410\n",
            "Epoch: 13, Validation Loss: 1.0401, Accuracy: 0.4286, F1 Score: 0.4440\n"
          ]
        },
        {
          "output_type": "stream",
          "name": "stderr",
          "text": [
            "100%|██████████| 18/18 [00:04<00:00,  3.77it/s]\n"
          ]
        },
        {
          "output_type": "stream",
          "name": "stdout",
          "text": [
            "Epoch: 14, Training Loss: 1.0227, Accuracy: 0.5652, F1 Score: 0.5361\n",
            "Epoch: 14, Validation Loss: 1.0688, Accuracy: 0.4857, F1 Score: 0.4965\n"
          ]
        },
        {
          "output_type": "stream",
          "name": "stderr",
          "text": [
            "100%|██████████| 18/18 [00:04<00:00,  3.77it/s]\n"
          ]
        },
        {
          "output_type": "stream",
          "name": "stdout",
          "text": [
            "Epoch: 15, Training Loss: 0.9823, Accuracy: 0.6014, F1 Score: 0.5853\n",
            "Epoch: 15, Validation Loss: 1.0302, Accuracy: 0.4571, F1 Score: 0.4771\n"
          ]
        },
        {
          "output_type": "stream",
          "name": "stderr",
          "text": [
            "100%|██████████| 18/18 [00:04<00:00,  3.78it/s]\n"
          ]
        },
        {
          "output_type": "stream",
          "name": "stdout",
          "text": [
            "Epoch: 16, Training Loss: 0.9758, Accuracy: 0.6232, F1 Score: 0.6088\n",
            "Epoch: 16, Validation Loss: 1.1211, Accuracy: 0.4571, F1 Score: 0.4786\n"
          ]
        },
        {
          "output_type": "stream",
          "name": "stderr",
          "text": [
            "100%|██████████| 18/18 [00:04<00:00,  3.79it/s]\n"
          ]
        },
        {
          "output_type": "stream",
          "name": "stdout",
          "text": [
            "Epoch: 17, Training Loss: 1.0224, Accuracy: 0.6014, F1 Score: 0.5822\n",
            "Epoch: 17, Validation Loss: 1.0478, Accuracy: 0.4857, F1 Score: 0.5063\n"
          ]
        },
        {
          "output_type": "stream",
          "name": "stderr",
          "text": [
            "100%|██████████| 18/18 [00:04<00:00,  3.79it/s]\n"
          ]
        },
        {
          "output_type": "stream",
          "name": "stdout",
          "text": [
            "Epoch: 18, Training Loss: 0.9719, Accuracy: 0.5870, F1 Score: 0.5677\n",
            "Epoch: 18, Validation Loss: 1.0353, Accuracy: 0.4571, F1 Score: 0.4710\n"
          ]
        },
        {
          "output_type": "stream",
          "name": "stderr",
          "text": [
            "100%|██████████| 18/18 [00:04<00:00,  3.78it/s]\n"
          ]
        },
        {
          "output_type": "stream",
          "name": "stdout",
          "text": [
            "Epoch: 19, Training Loss: 0.9401, Accuracy: 0.5942, F1 Score: 0.5772\n",
            "Epoch: 19, Validation Loss: 1.1011, Accuracy: 0.4571, F1 Score: 0.4710\n"
          ]
        },
        {
          "output_type": "display_data",
          "data": {
            "text/plain": [
              "<Figure size 1000x500 with 3 Axes>"
            ],
            "image/png": "[encoded data removed]"
          },
          "metadata": {}
        }
      ]
    }
  ],
  "metadata": {
    "accelerator": "GPU",
    "colab": {
      "provenance": []
    },
    "kernelspec": {
      "display_name": "Python 3",
      "name": "python3"
    },
    "language_info": {
      "codemirror_mode": {
        "name": "ipython",
        "version": 3
      },
      "file_extension": ".py",
      "mimetype": "text/x-python",
      "name": "python",
      "nbconvert_exporter": "python",
      "pygments_lexer": "ipython3",
      "version": "3.10.13"
    }
  },
  "nbformat": 4,
  "nbformat_minor": 0
}